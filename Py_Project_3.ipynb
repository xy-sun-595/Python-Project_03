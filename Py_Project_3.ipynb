{
  "cells": [
    {
      "cell_type": "markdown",
      "metadata": {
        "id": "xq__bChjD04e"
      },
      "source": [
        "# Python Assignment 3"
      ]
    },
    {
      "cell_type": "markdown",
      "metadata": {
        "id": "y7j2V0UDMYLG"
      },
      "source": [
        "⏱⏱⏱**Due: 11/02/2023 11:59 PM** ⏱⏱⏱\n",
        "\n",
        "Please submit your notebook files and upload them to your Git repository. Don't forget to include a link to your Git repository when submitting this file on Brightspace. **Please include all outputs in your notebook, including plots, printouts, etc..**\n",
        "\n",
        "Collaboration is permitted and encouraged; however, it's essential to independently produce and submit your own work. If you collaborate with others, please ensure that you provide their names in the designated section.\n",
        "\n",
        "Collaborators:_____"
      ]
    },
    {
      "cell_type": "markdown",
      "metadata": {
        "id": "SUS30Ew9D04n"
      },
      "source": [
        "##**For Questions 2a and 2b, you can choose one of them to complete, if you completed both, only Questions 2a will be graded.**\n",
        "\n",
        "**This assignment is out of 150 points; surplus points can be applied to other assignments (including Matlab and C/C++). However, it cannot be applied to your final project grade, and your assignment grade will not excced 75% of your total grade.**"
      ]
    },
    {
      "cell_type": "markdown",
      "metadata": {
        "id": "KR0Fl4yAQYad"
      },
      "source": [
        "## 1. Good presentation of your code and outputs; submitting your files to Github (10 pts)"
      ]
    },
    {
      "cell_type": "markdown",
      "metadata": {
        "id": "9WPZWhYQkptT"
      },
      "source": [
        "Ensure thorough and clear comments within your code to explain its functionality.\n",
        "\n",
        "Enhance your plots by adding titles, legends, and axis labels where appropriate to provide clarity.\n",
        "\n",
        "If necessary, employ LaTex notation to present mathematical explanations within the notebook.\n",
        "\n",
        "Divide your code into multiple blocks or cells in Jupyter Notebook and provide descriptive explanations for each block to improve readability.\n",
        "\n",
        "As part of your submission, **include the notebook files and upload them to your Git repository. Additionally, remember to provide a link to your Git repository when submitting the files on Brightspace.** Do not submit a compressed file (.rar, .zip, etc..), submit files separately.\n",
        "\n",
        "If you are tasked with implementing a numerical algorithm, it is expected that you would not rely on pre-existing methods. For example, if you were asked to solve $Ax=b$, you should write your own program to solve, not just by calling numpy.linalg.solve.\n",
        "\n"
      ]
    },
    {
      "cell_type": "markdown",
      "metadata": {
        "id": "U5SL2j0sqnAJ"
      },
      "source": [
        "## 2a. Numerical Integration (30 pts)"
      ]
    },
    {
      "cell_type": "markdown",
      "metadata": {
        "id": "OxwdE468rNAR"
      },
      "source": [
        "For a domain discretized into $N$ equally spaced panels:\n",
        "$$\n",
        "\\Delta x=\\frac{b-a}{N}.\n",
        "$$\n",
        "The approximation to the integral is\n",
        "$$\\begin{aligned}\n",
        "\\int_a^b f(x) d x & \\approx \\frac{\\Delta x}{2} \\sum_{k=1}^N\\left(f\\left(x_{k-1}\\right)+f\\left(x_k\\right)\\right) \\\\\n",
        "& =\\frac{\\Delta x}{2}\\left(f\\left(x_0\\right)+2 f\\left(x_1\\right)+2 f\\left(x_2\\right)+2 f\\left(x_3\\right)+\\cdots+2 f\\left(x_{N-1}\\right)+f\\left(x_N\\right)\\right) \\\\\n",
        "& =\\Delta x\\left(\\sum_{k=1}^{N-1} f\\left(x_k\\right)+\\frac{f\\left(x_N\\right)+f\\left(x_0\\right)}{2}\\right) .\n",
        "\\end{aligned}$$\n",
        "This is the trapezoid rule scheme.\n",
        "\n",
        "\n",
        "Given the function $f(x) = 3x^2 + 2x +2$, your tasks are:\n",
        "\n",
        "1. Carry out the integration symbolically using the SymPy library. Output the result (i.e. print out the result).\n",
        "2. Implement the trapezoid rule to estimate the integral $\\int_{-4}^6 f(x) dx$ using the following values of $N = 10, 20, 40, 80, 160, 320, 640, 1280$. Output the results (i.e. print out the results).\n",
        "3. Plot the absolute error (absolute difference between the numerical approximation and the SymPy result) against N.\n",
        "\n",
        "\n",
        "\n"
      ]
    },
    {
      "cell_type": "code",
      "execution_count": 253,
      "metadata": {},
      "outputs": [
        {
          "name": "stdout",
          "output_type": "stream",
          "text": [
            "The symbolic integration of f(x) is:  320\n",
            "\n",
            "approximantion result : \n",
            "325.000000\n",
            "321.250000\n",
            "320.312500\n",
            "320.078125\n",
            "320.019531\n",
            "320.004883\n",
            "320.001221\n",
            "320.000305\n"
          ]
        },
        {
          "data": {
            "image/png": "[encoded data removed]",
            "text/plain": [
              "<Figure size 600x400 with 1 Axes>"
            ]
          },
          "metadata": {},
          "output_type": "display_data"
        }
      ],
      "source": [
        "import sympy as sp\n",
        "import matplotlib.pyplot as plt\n",
        "x = sp.Symbol('x')                                              # Create a new symbol x\n",
        "f = 3*x**2 + 2*x + 2                                            # Set f(x), lower bound and upper bound\n",
        "lower = -4 \n",
        "upper = 6\n",
        "\n",
        "integral = sp.integrate(f,(x, lower, upper))                    # Set integral of f with two bound\n",
        "print(\"The symbolic integration of f(x) is: \", integral)        # Print out the value of the integral of f\n",
        "\n",
        "def trapezoi_rule_scheme(function, a, b, n):                    # Define the function: trapezoi_rule_scheme\n",
        "    x_0 = a                                                         # Set X_0 = a as the start point\n",
        "    delta_x = (b - a)/n                                             # Set delta_x\n",
        "    k = sp.Symbol(\"k\")                                              # Create a new symbol k\n",
        "\n",
        "    #Use the trapezoi_rule_scheme formular to get a approximation value\n",
        "    result = delta_x * (sp.Sum(function.subs(x, x_0 + k*delta_x), (k, 1, n-1)) + (function.subs(x,b)+function.subs(x,a))/2)\n",
        "    return result                                                   # return the approximation value\n",
        "\n",
        "\n",
        "N = [10,20,40,80,160,320,640,1280]                              # Use the given value for N\n",
        "approximantion = []                                             # \n",
        "absolute_error = []\n",
        "for i in range(0, len(N)):                                      # Loop though N = 10 ... 1200\n",
        "    t = trapezoi_rule_scheme(f, lower, upper, N[i])             # Call trapezoi_rule_scheme to get the approxmation result\n",
        "    approximantion.append(t)                                    # Collect the result into \"approxmation\"\n",
        "    absolute_error.append(abs(integral - t))                    # Collect the absolut difference between integation and its approxmation\n",
        "\n",
        "print(\"\\napproximantion result : \")                             # Print out all the approximantion result\n",
        "for error in approximantion:\n",
        "    print(f\"{error:.6f}\")\n",
        "\n",
        "#print(\"\\nOutput the difference : \")                            # Print out all the difference\n",
        "#for error in absolute_error:\n",
        "    #print(f\"{error:.6f}\")\n",
        "\n",
        "\n",
        "plt.figure(figsize=(6, 4))                                      # Plot the function in 6*4 figure\n",
        "plt.plot(N, absolute_error, label='absolute error against N', color='blue')\n",
        "plt.xlabel('N')\n",
        "plt.ylabel('absolute difference')\n",
        "plt.legend()\n",
        "plt.title('Absolute Error against N')\n",
        "plt.grid(True)\n",
        "plt.show()   \n",
        "\n"
      ]
    },
    {
      "cell_type": "markdown",
      "metadata": {
        "id": "uzMa1xSEwhe3"
      },
      "source": [
        "## 2b. Numerical Differentiation (30 pts)"
      ]
    },
    {
      "cell_type": "markdown",
      "metadata": {
        "id": "FoA2lb0VxDk4"
      },
      "source": [
        "Your tasks:\n",
        "1. Find the closed form expression of $f_{xy}(x,y)$, i.e. $\\frac{d^2}{dxdy}f(x,y)$, for $f(x,y) = \\left(sin^2\\left(x\\right)e^xcos(y)\\right)$ using `sympy`. Output the result.\n",
        "2. Find $f_{xy}(2,3)$ with `sympy` and take 15 significant digits, use it as the \"groud truth solution\". Output the result.\n",
        "3. Approximate $f_{xy}(2,3)$ using central difference approximation for the following values of $h = 0.1, 0.01, 0.001, 0.0001$. Output the results.\n",
        "4. Plot the absolute error (absolute difference between the numerical approximation and the SymPy result) against the step size $h$. `plt.gca().invert_xaxis() ` might help.\n",
        "\n",
        "Recall from the lecture:\n",
        "$$f_{x y}(x, y) \\approx \\frac{f(x+h, y+k)-f(x+h, y-k)-f(x-h, y+k)+f(x-h, y-k)}{4 h k}.$$\n",
        "For simplicity, we set $k = h$."
      ]
    },
    {
      "cell_type": "markdown",
      "metadata": {
        "id": "aCgIDqeLBPjj"
      },
      "source": [
        "## 3. Pandas I (15 pts)"
      ]
    },
    {
      "cell_type": "markdown",
      "metadata": {
        "id": "O1w1avrtBYD5"
      },
      "source": [
        "1. Create a 3x4 (3 rows by 4 columns) pandas DataFrame with the columns named after the following Long Island towns: Hempstead, Babylon, Islip, and Brookhaven. The rows represent 'Population in 2099', 'Population in 2300', 'Population in 2400'. Fill each of the 12 cells in the DataFrame with a random integer from 1000 to 10000, inclusive. `np.random.randint()` might be helpful.\n",
        "For Example:\n",
        "\n",
        "```\n",
        "                    Hempstead  Babylon  Islip  Brookhaven\n",
        "Population in 2099       2931     8043   8414        8661\n",
        "Population in 2300       5444     9227   7393        8007\n",
        "Population in 2400       1660     7977   4730        2940\n",
        "```\n",
        "\n",
        "\n",
        "\n",
        "2. Output the following:\n",
        "  - The entire DataFrame.\n",
        "  - The value in the cell of row #1 (indexing starts with 0) under the Hempstead column.\n",
        "\n",
        "3. Add a new column named Riverhead. Populate this column with the sum of the respective row values from the Islip and Brookhaven columns. Output the entire DataFrame again."
      ]
    },
    {
      "cell_type": "code",
      "execution_count": 254,
      "metadata": {},
      "outputs": [
        {
          "name": "stdout",
          "output_type": "stream",
          "text": [
            "                    Hempsterad  Babylon  Islip  Brookhaven\n",
            "Population in 2099        2207     7172   9994        8221\n",
            "Population in 2300        7021     4622   4560        9948\n",
            "Population in 2400        2641     5984   5353        9622\n",
            "\n",
            " The value of row #1 in Hempstead is:  7021\n"
          ]
        },
        {
          "data": {
            "text/html": [
              "<div>\n",
              "<style scoped>\n",
              "    .dataframe tbody tr th:only-of-type {\n",
              "        vertical-align: middle;\n",
              "    }\n",
              "\n",
              "    .dataframe tbody tr th {\n",
              "        vertical-align: top;\n",
              "    }\n",
              "\n",
              "    .dataframe thead th {\n",
              "        text-align: right;\n",
              "    }\n",
              "</style>\n",
              "<table border=\"1\" class=\"dataframe\">\n",
              "  <thead>\n",
              "    <tr style=\"text-align: right;\">\n",
              "      <th></th>\n",
              "      <th>Hempsterad</th>\n",
              "      <th>Babylon</th>\n",
              "      <th>Islip</th>\n",
              "      <th>Brookhaven</th>\n",
              "      <th>Riverhead</th>\n",
              "    </tr>\n",
              "  </thead>\n",
              "  <tbody>\n",
              "    <tr>\n",
              "      <th>Population in 2099</th>\n",
              "      <td>2207</td>\n",
              "      <td>7172</td>\n",
              "      <td>9994</td>\n",
              "      <td>8221</td>\n",
              "      <td>18215</td>\n",
              "    </tr>\n",
              "    <tr>\n",
              "      <th>Population in 2300</th>\n",
              "      <td>7021</td>\n",
              "      <td>4622</td>\n",
              "      <td>4560</td>\n",
              "      <td>9948</td>\n",
              "      <td>14508</td>\n",
              "    </tr>\n",
              "    <tr>\n",
              "      <th>Population in 2400</th>\n",
              "      <td>2641</td>\n",
              "      <td>5984</td>\n",
              "      <td>5353</td>\n",
              "      <td>9622</td>\n",
              "      <td>14975</td>\n",
              "    </tr>\n",
              "  </tbody>\n",
              "</table>\n",
              "</div>"
            ],
            "text/plain": [
              "                    Hempsterad  Babylon  Islip  Brookhaven  Riverhead\n",
              "Population in 2099        2207     7172   9994        8221      18215\n",
              "Population in 2300        7021     4622   4560        9948      14508\n",
              "Population in 2400        2641     5984   5353        9622      14975"
            ]
          },
          "execution_count": 254,
          "metadata": {},
          "output_type": "execute_result"
        }
      ],
      "source": [
        "import numpy as np\n",
        "import pandas as pd\n",
        "population = pd.Series(['Population in 2099', 'Population in 2300', 'Population in 2400'])\n",
        "town_names = pd.Series(['Hempsterad', 'Babylon', 'Islip', 'Brookhaven'])\n",
        "\n",
        "# 1.\n",
        "random_data = np.random.randint(1000, 10000, size=(3, 4))                           # Create a 3_by_4 pandas DataFrame with random integers from 1000 to 10000\n",
        "myDF = pd.DataFrame(data = random_data, index = population, columns = town_names)   # Set \"population\" as the index column, different towns to name each column \n",
        "print(myDF)                                                                         # Display the entire DataFrame\n",
        "\n",
        "# 2.\n",
        "value = myDF.loc['Population in 2300', 'Hempsterad']                                # Find the value in the cell of row #1 under the Hempstead column\n",
        "print('\\n The value of row #1 in Hempstead is: ', value)                            # Print the value\n",
        "\n",
        "# 3.\n",
        "myDF[\"Riverhead\"] = myDF[\"Islip\"] + myDF[\"Brookhaven\"]                              # Add a new column, \"Riverhead\" (sum of row values from the Islip and Brookhaven)\n",
        "myDF                                                                                # Display"
      ]
    },
    {
      "cell_type": "markdown",
      "metadata": {
        "id": "WqHDjQC-KLjo"
      },
      "source": [
        "## 4. Pandas II (15 pts)"
      ]
    },
    {
      "cell_type": "markdown",
      "metadata": {
        "id": "w6kHh8BENzHk"
      },
      "source": [
        "0. Download the cvs file that comes with this assignment, and read it into a dataframe. You can also download this [csv file](https://media.githubusercontent.com/media/datablist/sample-csv-files/main/files/customers/customers-100.csv) with this link.\n",
        "1. Arrange the data in alphabetical order based on the last name. Display the first few rows.\n",
        "2. Count the number of customers whose subscription date is in 2021 (2021-01-01 to 2021-12-31). Report this number (e.g. print)."
      ]
    },
    {
      "cell_type": "code",
      "execution_count": 255,
      "metadata": {},
      "outputs": [
        {
          "data": {
            "text/html": [
              "<div>\n",
              "<style scoped>\n",
              "    .dataframe tbody tr th:only-of-type {\n",
              "        vertical-align: middle;\n",
              "    }\n",
              "\n",
              "    .dataframe tbody tr th {\n",
              "        vertical-align: top;\n",
              "    }\n",
              "\n",
              "    .dataframe thead th {\n",
              "        text-align: right;\n",
              "    }\n",
              "</style>\n",
              "<table border=\"1\" class=\"dataframe\">\n",
              "  <thead>\n",
              "    <tr style=\"text-align: right;\">\n",
              "      <th></th>\n",
              "      <th>Index</th>\n",
              "      <th>Customer Id</th>\n",
              "      <th>First Name</th>\n",
              "      <th>Last Name</th>\n",
              "      <th>Company</th>\n",
              "      <th>City</th>\n",
              "      <th>Country</th>\n",
              "      <th>Phone 1</th>\n",
              "      <th>Phone 2</th>\n",
              "      <th>Email</th>\n",
              "      <th>Subscription Date</th>\n",
              "      <th>Website</th>\n",
              "    </tr>\n",
              "  </thead>\n",
              "  <tbody>\n",
              "    <tr>\n",
              "      <th>67</th>\n",
              "      <td>68</td>\n",
              "      <td>a014Ec1b9FccC1E</td>\n",
              "      <td>Tom</td>\n",
              "      <td>Alvarado</td>\n",
              "      <td>Donaldson-Dougherty</td>\n",
              "      <td>South Sophiaberg</td>\n",
              "      <td>Kiribati</td>\n",
              "      <td>(585)606-2980x2258</td>\n",
              "      <td>730-797-3594x5614</td>\n",
              "      <td>nicholsonnina@montgomery.info</td>\n",
              "      <td>2020-08-18</td>\n",
              "      <td>http://odom-massey.com/</td>\n",
              "    </tr>\n",
              "    <tr>\n",
              "      <th>96</th>\n",
              "      <td>97</td>\n",
              "      <td>CeD220bdAaCfaDf</td>\n",
              "      <td>Lynn</td>\n",
              "      <td>Atkinson</td>\n",
              "      <td>Ware, Burns and Oneal</td>\n",
              "      <td>New Bradview</td>\n",
              "      <td>Sri Lanka</td>\n",
              "      <td>+1-846-706-2218</td>\n",
              "      <td>605.413.3198</td>\n",
              "      <td>vkemp@ferrell.com</td>\n",
              "      <td>2021-07-10</td>\n",
              "      <td>https://novak-allison.com/</td>\n",
              "    </tr>\n",
              "    <tr>\n",
              "      <th>92</th>\n",
              "      <td>93</td>\n",
              "      <td>aAb6AFc7AfD0fF3</td>\n",
              "      <td>Collin</td>\n",
              "      <td>Ayers</td>\n",
              "      <td>Lamb-Peterson</td>\n",
              "      <td>South Lonnie</td>\n",
              "      <td>Anguilla</td>\n",
              "      <td>404-645-5351x012</td>\n",
              "      <td>001-257-582-8850x8516</td>\n",
              "      <td>dudleyemily@gonzales.biz</td>\n",
              "      <td>2021-06-29</td>\n",
              "      <td>http://www.ruiz.com/</td>\n",
              "    </tr>\n",
              "    <tr>\n",
              "      <th>0</th>\n",
              "      <td>1</td>\n",
              "      <td>DD37Cf93aecA6Dc</td>\n",
              "      <td>Sheryl</td>\n",
              "      <td>Baxter</td>\n",
              "      <td>Rasmussen Group</td>\n",
              "      <td>East Leonard</td>\n",
              "      <td>Chile</td>\n",
              "      <td>229.077.5154</td>\n",
              "      <td>397.884.0519x718</td>\n",
              "      <td>zunigavanessa@smith.info</td>\n",
              "      <td>2020-08-24</td>\n",
              "      <td>http://www.stephenson.com/</td>\n",
              "    </tr>\n",
              "    <tr>\n",
              "      <th>15</th>\n",
              "      <td>16</td>\n",
              "      <td>8cad0b4CBceaeec</td>\n",
              "      <td>Miranda</td>\n",
              "      <td>Beasley</td>\n",
              "      <td>Singleton and Sons</td>\n",
              "      <td>Desireeshire</td>\n",
              "      <td>Oman</td>\n",
              "      <td>540.085.3135x185</td>\n",
              "      <td>+1-600-462-6432x21881</td>\n",
              "      <td>vduncan@parks-hardy.com</td>\n",
              "      <td>2022-04-12</td>\n",
              "      <td>http://acosta.org/</td>\n",
              "    </tr>\n",
              "  </tbody>\n",
              "</table>\n",
              "</div>"
            ],
            "text/plain": [
              "    Index      Customer Id First Name Last Name                Company  \\\n",
              "67     68  a014Ec1b9FccC1E        Tom  Alvarado    Donaldson-Dougherty   \n",
              "96     97  CeD220bdAaCfaDf       Lynn  Atkinson  Ware, Burns and Oneal   \n",
              "92     93  aAb6AFc7AfD0fF3     Collin     Ayers          Lamb-Peterson   \n",
              "0       1  DD37Cf93aecA6Dc     Sheryl    Baxter        Rasmussen Group   \n",
              "15     16  8cad0b4CBceaeec    Miranda   Beasley     Singleton and Sons   \n",
              "\n",
              "                City    Country             Phone 1                Phone 2  \\\n",
              "67  South Sophiaberg   Kiribati  (585)606-2980x2258      730-797-3594x5614   \n",
              "96      New Bradview  Sri Lanka     +1-846-706-2218           605.413.3198   \n",
              "92      South Lonnie   Anguilla    404-645-5351x012  001-257-582-8850x8516   \n",
              "0       East Leonard      Chile        229.077.5154       397.884.0519x718   \n",
              "15      Desireeshire       Oman    540.085.3135x185  +1-600-462-6432x21881   \n",
              "\n",
              "                            Email Subscription Date  \\\n",
              "67  nicholsonnina@montgomery.info        2020-08-18   \n",
              "96              vkemp@ferrell.com        2021-07-10   \n",
              "92       dudleyemily@gonzales.biz        2021-06-29   \n",
              "0        zunigavanessa@smith.info        2020-08-24   \n",
              "15        vduncan@parks-hardy.com        2022-04-12   \n",
              "\n",
              "                       Website  \n",
              "67     http://odom-massey.com/  \n",
              "96  https://novak-allison.com/  \n",
              "92        http://www.ruiz.com/  \n",
              "0   http://www.stephenson.com/  \n",
              "15          http://acosta.org/  "
            ]
          },
          "execution_count": 255,
          "metadata": {},
          "output_type": "execute_result"
        }
      ],
      "source": [
        "# 0.\n",
        "df = pd.read_csv(r\"C:\\Users\\Xiaoyong\\Desktop\\customers-100.csv\")    # Read the csv file on my laptop\n",
        "#df = pd.read_csv('https://media.githubusercontent.com/media/datablist/sample-csv-files/main/files/customers/customers-100.csv')\n",
        "\n",
        "# 1.\n",
        "df.sort_values('Last Name').head()                                  # Display the first few row of sorted data (based on last name)\n"
      ]
    },
    {
      "cell_type": "code",
      "execution_count": 256,
      "metadata": {},
      "outputs": [
        {
          "name": "stdout",
          "output_type": "stream",
          "text": [
            "The number of customers in 2021 is:   100\n"
          ]
        }
      ],
      "source": [
        "# 2.\n",
        "df[(df['Subscription Date'] > '2021-01-01') & (df['Subscription Date']< '2021-12-31')]  # Count the number of customers whose subscription date is in 2021\n",
        "print('The number of customers in 2021 is:  ', df.shape[0])                             # Print the number of customers"
      ]
    },
    {
      "cell_type": "markdown",
      "metadata": {
        "id": "aBpXtK8VvApb"
      },
      "source": [
        "## 5. LU decomposition (50 + 30 pts)\n"
      ]
    },
    {
      "cell_type": "markdown",
      "metadata": {
        "id": "ryafNieevrgZ"
      },
      "source": [
        "Part A (50 points)\n",
        "1. Write a function `LUdecomposition()` that takes as input a matrix $A\\in \\mathbb{R}^{n \\times n}$. Perform Gaussian Elimination to have this function return two matrices $L$ and $U$ such that $A=LU$.\n",
        "2. Your function should raise any relevant errors, for example, raise an error if a pure LU decomposition does not exist for $A$ (meaning that you have to perform pivoting, i.e., permutation of rows).\n",
        "3. Create several random matrices for the purpose of testing your function. Obtain the $L$ and $U$ matrices, and for each random matrix obtain its L and U matrices and perform a matrix multiplication (`np.matmul()`) to determine whether the outcome closely resembles the original matrix $A$, allowing for slight differences attributable to precision errors.\n",
        "\n",
        "\n",
        "Note: LU decomposition with Gaussian elimination should be covered in your undergraduate linear algebra class. It is also covered in AMS 510. If you do not know how, this 10 minute [video](https://www.youtube.com/watch?v=UlWcofkUDDU&ab_channel=Mathispower4u) explains it very well.\n",
        "\n",
        "Part B (30 bonus points)\n",
        "4. Not all square matrices have a pure LU decomposition. However, PLU decomposition always exists. Write another function `pivoting()` that takes as input a matrix $A$ and return the permutation/pivoting matrix $P$ such that $PA$ always has a pure LU decomposition.\n",
        "5. Find an example $A$ for which `LUdecomposition()` raises an error. Then, use `pivoting()` to find $P$, and find the pure LU decomposition of $PA$. Verify that indeed $PA = LU$ with matrix multiplication (`np.matmul()`).\n",
        "\n",
        "\n",
        "Hint: Please do not print out a giant matrix and visually examine the outcomes. Think of a way to verify your results and output a boolean value.\n"
      ]
    },
    {
      "cell_type": "markdown",
      "metadata": {
        "id": "QlP_giLsQRPM"
      },
      "source": [
        "Fact: LU and PLU decompositions are not unique."
      ]
    },
    {
      "cell_type": "code",
      "execution_count": 261,
      "metadata": {},
      "outputs": [
        {
          "name": "stdout",
          "output_type": "stream",
          "text": [
            "\n",
            "Matrix A = \n",
            " [[0.26455561 0.77423369 0.45615033]\n",
            " [0.56843395 0.0187898  0.6176355 ]\n",
            " [0.61209572 0.616934   0.94374808]]\n",
            "\n",
            "Matrix L = \n",
            " [[1.         0.         0.        ]\n",
            " [2.14863689 1.         0.        ]\n",
            " [2.31367506 0.71402097 1.        ]]\n",
            "\n",
            "Matrix U = \n",
            " [[ 0.26455561  0.77423369  0.45615033]\n",
            " [ 0.         -1.64475727 -0.36246594]\n",
            " [ 0.          0.          0.14717271]]\n",
            "\n",
            "Matrix LU = \n",
            " [[0.26455561 0.77423369 0.45615033]\n",
            " [0.56843395 0.0187898  0.6176355 ]\n",
            " [0.61209572 0.616934   0.94374808]]\n",
            "\n",
            "The original A and LU are close: True\n"
          ]
        }
      ],
      "source": [
        "# Part A\n",
        "import numpy as np\n",
        "# 1.\n",
        "def LUdecomposition(A):                                         # define a function LUdecomposition(A)\n",
        "    n = len(A)                                                      # Set value for n (Matrix_A I choose is 3 by 3, so n=3)\n",
        "    L = np.zeros((n, n))                                            # initialize a n_by_n\n",
        "    U = np.copy(A)                                                  # U start from A to do some operation\n",
        "    for i in range(n):                                              # Loop through the column\n",
        "# 2.\n",
        "        if A[i, i] == 0:                                            # Check the error and raise exception\n",
        "            raise Exception(\"Sorry,theLU does not exist for A!!!\")\n",
        "        L[i, i] = 1                                                     # let the diagnoal of L be 1\n",
        "        for j in range(i+1, n):                                         # Loop through the row\n",
        "            coefficient = U[j, i]/ U[i, i]                              # Find the coefficient from U\n",
        "            L[j, i] = coefficient                                       # copy the coefficient into L\n",
        "            U[j, i:] = U[j, i:] - coefficient * U[i, i:]                # Use the coefficient to do gauss elimination for U\n",
        "    return L, U                                                     # Return L and U\n",
        "\n",
        "# 3.\n",
        "A = np.random.rand(3, 3)                                        # Define Matrix A with 3 by 3 random number\n",
        "L, U = LUdecomposition(A)                                       # Call LUdecomposition(A) to get L and U\n",
        "LU_approx = np.matmul(L, U)                                     # Perform the matrix multiplication between L and U\n",
        "\n",
        "is_close = np.allclose(A, LU_approx, atol = 1e-10)              # boolean function to test the difference between A and LU,  return true/false\n",
        "\n",
        "                                                                # Display:\n",
        "print(\"\\nMatrix A = \\n\", A)                                         # Print out the Matrix A\n",
        "print(\"\\nMatrix L = \\n\", L)                                         # Print out the Matrix L\n",
        "print(\"\\nMatrix U = \\n\", U)                                         # Print out the Matrix U\n",
        "print(\"\\nMatrix LU = \\n\", LU_approx)                                # Print out the Matrix LU\n",
        "\n",
        "print(\"\\nThe original A and LU are close:\", is_close)               # Print out whether A and LU are close or not"
      ]
    },
    {
      "cell_type": "code",
      "execution_count": 262,
      "metadata": {},
      "outputs": [
        {
          "name": "stdout",
          "output_type": "stream",
          "text": [
            "\n",
            "Matrix P = \n",
            " [[0. 0. 1.]\n",
            " [1. 0. 0.]\n",
            " [0. 1. 0.]]\n",
            "\n",
            "Matrix PA = \n",
            " [[0.56843395 0.0187898  0.6176355 ]\n",
            " [0.61209572 0.616934   0.94374808]\n",
            " [0.26455561 0.77423369 0.45615033]]\n",
            "\n",
            "Matrix LU = \n",
            " [[0.56843395 0.0187898  0.6176355 ]\n",
            " [0.61209572 0.616934   0.94374808]\n",
            " [0.26455561 0.77423369 0.45615033]]\n",
            "\n",
            "PA is close to LU : True\n"
          ]
        }
      ],
      "source": [
        "# Part B: PLU\n",
        "def pivoting(A):                                        # define a function pivoting(A)\n",
        "    n = len(A)                                              # Set value for n (n=3)\n",
        "    P = np.identity(n)                                      # Set Matrix P as identity Matrix\n",
        "\n",
        "    for c in range(n):                                      # Loop through c from 1 to n\n",
        "        r = np.argmax(np.abs(A[c:,c])) + c                      # Find the index of maximum value from current column\n",
        "\n",
        "        if c != r:                                              # if c doesn't match r\n",
        "            A[[c, r], :] = A[[r, c], :]                         # Swap the rows of A\n",
        "            P[[c, r], :] = P[[r, c], :]                         # Swap the rows of P as well\n",
        "    return P                                                # Return P\n",
        "\n",
        "P = pivoting(A)                                         # Call pivoting(A) to compute the Permutation Matrix P\n",
        "PA =np.dot(P, A)                                        # Compute PA = P * A\n",
        "\n",
        "L, U = LUdecomposition(PA)                              # Call LUdecomposition(PA) to get L and U\n",
        "LU_approx1 = np.matmul(L, U)                            # Perform the matrix multiplication between L and U\n",
        "\n",
        "is_close = np.allclose(PA, LU_approx1, atol = 1e-10)    # boolean function to test the difference between PA and LU,  return true/false\n",
        "\n",
        "                                                        # Display:\n",
        "print(\"\\nMatrix P = \\n\", P)                                 # Print out the Matrix P\n",
        "print(\"\\nMatrix PA = \\n\", PA)                               # Print out the Matrix PA\n",
        "print(\"\\nMatrix LU = \\n\", LU_approx1)                       # Print out the Matrix LU\n",
        "\n",
        "print(\"\\nPA is close to LU :\", is_close)                    # Print out whether PA and LU are close or not\n"
      ]
    },
    {
      "cell_type": "markdown",
      "metadata": {
        "id": "X_4ITuoU53KF"
      },
      "source": [
        "## 6. Markov Chain (30 pts)"
      ]
    },
    {
      "cell_type": "markdown",
      "metadata": {
        "id": "X2-wBoxIWLQs"
      },
      "source": [
        "**BACKGROUND:** Consider a Markov chain transition matrix $P$ on a set of $n$ states, where $P_{i j}$ corresponds to the probability $\\left(0 \\leq P_{i j} \\leq 1\\right)$ to go from state $i$ to the state $j$, and each row is normalized so that\n",
        "$$\n",
        "\\sum_{j=1}^n P_{i j}=1 .\n",
        "$$\n",
        "\n",
        "Let $p$ be a size- $n$ vector composed of the probability distribution over the $n$ states, where\n",
        "$$\n",
        "\\sum_{j=1}^n p_j=1 .\n",
        "$$\n",
        "\n",
        "The transition rule corresponding to the transition matrix $P$ is $\\hat{p}=P^T p$, where $\\hat{p}$ corresponds to a new probability distribution and\n",
        "$$\n",
        "\\sum_{j=1}^n \\hat{p}_j=1 .\n",
        "$$\n",
        "TASK: Write a program that works with 5 states `only use the numpy library`. In particular,\n",
        "0. Fix the random seed to be the last digit of your id: `numpy.random.seed()`.\n",
        "\n",
        "1. Construct a random $5 \\times 5$ matrix $P$, and normalize each row so that\n",
        "$$\n",
        "\\sum_{j=1}^5 P_{i j}=1 .\n",
        "$$\n",
        "\n",
        "2. Construct a random size-5 vector $p$ and normalize it so that\n",
        "$$\n",
        "\\sum_{j=1}^5 p_j=1 .\n",
        "$$\n",
        "Apply the transition rule 50 times to obtain $p_{50}$.\n",
        "3. Compute the eigenvector $v$ of $P^T$ corresponding to the eigenvalue 1 (and numerically, the eigenvalue closest to $1)$, and then scale the eigenvector so that\n",
        "$$\n",
        "\\sum_{j=1}^5 v_j=1 .\n",
        "$$\n",
        "This scaled eigenvector is known as the stationary distribution.\n",
        "\n",
        "4. Compute the component wise difference between $p_{50}$ and the stationary distribution. Do they match with each other within $1 \\mathrm{e}-5$ ?\n",
        "\n",
        "HINTS: You may find the following functions useful in your implementation:\n",
        "- np.random.rand\n",
        "- np.dot\n",
        "- np.linalg.eig"
      ]
    },
    {
      "cell_type": "code",
      "execution_count": 263,
      "metadata": {},
      "outputs": [
        {
          "name": "stdout",
          "output_type": "stream",
          "text": [
            "\n",
            " After normalizing each row, \n",
            "P = \n",
            " [[0.42694075 0.55637021 0.4689102  0.42388322 0.32957552]\n",
            " [0.41017673 0.2778909  0.56632276 0.61197654 0.24350553]\n",
            " [0.54751561 0.36575605 0.3928299  0.6400942  0.04912482]\n",
            " [0.06065134 0.01407417 0.57959273 0.54168058 0.60562179]\n",
            " [0.62745791 0.5123942  0.29588539 0.50044965 0.07583367]] \n",
            "\n",
            "\n",
            " After normalizling, \n",
            "p = \n",
            " [[0.48144057]\n",
            " [0.10785095]\n",
            " [0.71071573]\n",
            " [0.39260931]\n",
            " [0.31196831]]\n",
            "\n",
            " p_50 =\n",
            " [[2.32469653e+14]\n",
            " [1.90932695e+14]\n",
            " [2.87325324e+14]\n",
            " [3.33592547e+14]\n",
            " [1.76058912e+14]]\n"
          ]
        }
      ],
      "source": [
        "# 1.\n",
        "import numpy as np\n",
        "np.random.seed(0)                                                           # Fix the random seed to be the last digit of my ID: 0  (ID: 112496580)\n",
        "P = np.random.rand(5,5)                                                     # Create a 5 by 5 matrix P\n",
        "P_norm = P/np.linalg.norm(P, axis = 1, keepdims = True)                     # Normalize each row of P\n",
        "print(\"\\n After normalizing each row, \\nP = \\n\", P_norm, \"\\n\")              # Print out Matrix P, after normalizing each row\n",
        "\n",
        "# 2.\n",
        "vector_p = np.random.rand(5,1)                                              # Create a 5 by 1 vector p\n",
        "norm_vector_p = vector_p/np.linalg.norm(vector_p, axis = 0,keepdims = 1)    # Normalize the vector p\n",
        "print(\"\\n After normalizling, \\np = \\n\", norm_vector_p)                     # Print out normalized vector p\n",
        "\n",
        "number_of_transition = 50                                                   # Apply the transition rule for 50 times to obtain p_50\n",
        "\n",
        "new_vector_p = norm_vector_p\n",
        "for i in range(1, number_of_transition):                                    # Loop through to apply the transition rule 50 times\n",
        "    new_vector_p = np.dot(P_norm.T,new_vector_p)                            # New p = P.T * p\n",
        "print(\"\\n p_50 =\\n\", new_vector_p)                                          # Display p_50\n"
      ]
    },
    {
      "cell_type": "code",
      "execution_count": 264,
      "metadata": {},
      "outputs": [
        {
          "name": "stdout",
          "output_type": "stream",
          "text": [
            "The eigenvalue closest to 1 is : (0.10914033392876599+0.12667194319666011j)\n",
            "The corresponding eigenvector is :\n",
            " [-0.51166829+0.j          0.36372914+0.j         -0.09800983-0.33330916j\n",
            " -0.09800983+0.33330916j -0.56646754+0.j        ] \n",
            "\n",
            "Not match with each other within 1e-5\n"
          ]
        }
      ],
      "source": [
        "# 3.\n",
        "eigen_value, v = np.linalg.eig(P_norm.T)                                    # Find the eigenvalue and eigenvector for Normalized P\n",
        "diff = 1                                                                    # Initialize \"diff\"\n",
        "for i in range(0, 4):                                                       # Loop though to find the eigenvalue closest to 1\n",
        "    if diff > abs(eigen_value[i] - 1):                                          # If diff is larger\n",
        "        diff = abs(eigen_value[i] - 1)                                          # take the smallest abs(eigen_value[i] - 1)\n",
        "        index = i                                                               # collect the index\n",
        "print(\"The eigenvalue closest to 1 is :\", eigen_value[index])               # Print out the eigenvalue\n",
        "print(\"The corresponding eigenvector is :\\n\",v[index],\"\\n\")                 # Print out the corresponding eigenvector\n",
        "\n",
        "# 4.\n",
        "stationary_dist = v[index]                                                  # Define stationary_dist\n",
        "p_50 = new_vector_p                                                         \n",
        "difference = np.abs(p_50 - stationary_dist)                                 # Get the difference between p_50 and stationary_dist\n",
        "if np.all(difference <= 1e-5):                                              # Check whether they match with each other within 1e-5\n",
        "    print(\"They match with each other within 1e-5\")                             # Print out the result\n",
        "else:\n",
        "    print(\"Not match with each other within 1e-5\")"
      ]
    }
  ],
  "metadata": {
    "accelerator": "GPU",
    "anaconda-cloud": {},
    "colab": {
      "collapsed_sections": [
        "KR0Fl4yAQYad",
        "U5SL2j0sqnAJ",
        "29VDnBBE5pUV",
        "uzMa1xSEwhe3",
        "YCD9beX75Yp7",
        "aCgIDqeLBPjj",
        "WqHDjQC-KLjo",
        "wzeYQOW0OCH3",
        "X_4ITuoU53KF",
        "yoMb8G9jXWcu"
      ],
      "gpuType": "T4",
      "provenance": []
    },
    "kernelspec": {
      "display_name": "Python 3",
      "name": "python3"
    },
    "language_info": {
      "codemirror_mode": {
        "name": "ipython",
        "version": 3
      },
      "file_extension": ".py",
      "mimetype": "text/x-python",
      "name": "python",
      "nbconvert_exporter": "python",
      "pygments_lexer": "ipython3",
      "version": "3.11.5"
    }
  },
  "nbformat": 4,
  "nbformat_minor": 0
}
